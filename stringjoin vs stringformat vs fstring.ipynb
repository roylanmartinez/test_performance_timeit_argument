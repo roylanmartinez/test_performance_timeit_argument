{
 "cells": [
  {
   "cell_type": "code",
   "execution_count": 32,
   "metadata": {},
   "outputs": [],
   "source": [
    "import timeit\n",
    "code_to_test = \"\"\"\n",
    "x, y, z = 'hello', 'world', 'again'\n",
    "a = f'{x} {x} {y} {y} {z} {z}'\n",
    "\"\"\"\n",
    "fstring_time = timeit.timeit(code_to_test, number=10000)/10000"
   ]
  },
  {
   "cell_type": "code",
   "execution_count": 33,
   "metadata": {},
   "outputs": [],
   "source": [
    "import timeit\n",
    "\n",
    "code_to_test1 = \"\"\"\n",
    "x, y, z = 'hello', 'world', 'again'\n",
    "b = '{0} {0} {1} {1} {2} {2}'.format(x, y, z)\n",
    "\"\"\"\n",
    "format_time = timeit.timeit(code_to_test1, number=10000)/10000"
   ]
  },
  {
   "cell_type": "code",
   "execution_count": 34,
   "metadata": {},
   "outputs": [],
   "source": [
    "import timeit\n",
    "code_to_test2 = \"\"\"\n",
    "x, y, z = 'hello', 'world', 'again'\n",
    "c = ' '.join([x, x, y, y, z, z])\n",
    "\"\"\"\n",
    "join_time = timeit.timeit(code_to_test2, number=10000)/10000"
   ]
  },
  {
   "cell_type": "code",
   "execution_count": 35,
   "metadata": {},
   "outputs": [
    {
     "name": "stdout",
     "output_type": "stream",
     "text": [
      "fstring time:7.704699999976583e-07\n",
      "format time:1.064870000004703e-06\n",
      "join_time:6.407599999988633e-07\n"
     ]
    }
   ],
   "source": [
    "print(f'fstring time:{fstring_time}\\nformat time:{format_time}\\njoin_time:{join_time}')"
   ]
  }
 ],
 "metadata": {
  "kernelspec": {
   "display_name": "Python 3",
   "language": "python",
   "name": "python3"
  },
  "language_info": {
   "codemirror_mode": {
    "name": "ipython",
    "version": 3
   },
   "file_extension": ".py",
   "mimetype": "text/x-python",
   "name": "python",
   "nbconvert_exporter": "python",
   "pygments_lexer": "ipython3",
   "version": "3.7.4"
  }
 },
 "nbformat": 4,
 "nbformat_minor": 2
}
